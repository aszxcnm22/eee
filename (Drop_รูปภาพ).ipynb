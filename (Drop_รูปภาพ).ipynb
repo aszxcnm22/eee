{
  "nbformat": 4,
  "nbformat_minor": 0,
  "metadata": {
    "colab": {
      "provenance": [],
      "mount_file_id": "12JdqRSXF1zbmlsWwSRZSZliEGUItK0DK",
      "authorship_tag": "ABX9TyNaYtvkIqfT7sP0hChEDvCs",
      "include_colab_link": true
    },
    "kernelspec": {
      "name": "python3",
      "display_name": "Python 3"
    },
    "language_info": {
      "name": "python"
    }
  },
  "cells": [
    {
      "cell_type": "markdown",
      "metadata": {
        "id": "view-in-github",
        "colab_type": "text"
      },
      "source": [
        "<a href=\"https://colab.research.google.com/github/aszxcnm22/eee/blob/main/(Drop_%E0%B8%A3%E0%B8%B9%E0%B8%9B%E0%B8%A0%E0%B8%B2%E0%B8%9E).ipynb\" target=\"_parent\"><img src=\"https://colab.research.google.com/assets/colab-badge.svg\" alt=\"Open In Colab\"/></a>"
      ]
    },
    {
      "cell_type": "markdown",
      "source": [
        "# การ \"ดรอปรูปภาพ\" (Drop รูปภาพ) ในบริบทของการเตรียมข้อมูลเพื่อฝึกสอนโมเดล หมายถึง การคัดกรองและตัดทิ้งภาพที่ไม่เหมาะสมหรือไม่มีคุณภาพ\n"
      ],
      "metadata": {
        "id": "GFzJvcKSnGBv"
      }
    },
    {
      "cell_type": "markdown",
      "source": [
        "## 🔹 วัตถุประสงค์ของการดรอปรูปภาพ\n",
        "ลด noise ในข้อมูลที่อาจทำให้โมเดลเรียนรู้ผิดพลาด\n",
        "\n",
        "ป้องกัน overfitting จากข้อมูลที่ไม่เป็นตัวแทนของปัญหาที่แท้จริง\n",
        "\n",
        "ทำให้โมเดลสามารถเรียนรู้ได้จากข้อมูลที่ \"สะอาด\" และมีคุณภาพ"
      ],
      "metadata": {
        "id": "1RUHT5XUBApI"
      }
    },
    {
      "cell_type": "code",
      "source": [
        "from google.colab import drive\n",
        "drive.mount('/content/drive')"
      ],
      "metadata": {
        "id": "Oco1bkw3nOsk",
        "outputId": "1d534f3f-beb3-40e0-b80a-6d89002a6842",
        "colab": {
          "base_uri": "https://localhost:8080/"
        }
      },
      "execution_count": 1,
      "outputs": [
        {
          "output_type": "stream",
          "name": "stdout",
          "text": [
            "Drive already mounted at /content/drive; to attempt to forcibly remount, call drive.mount(\"/content/drive\", force_remount=True).\n"
          ]
        }
      ]
    },
    {
      "cell_type": "markdown",
      "source": [
        "###  ตัวอย่างเกณฑ์ในการดรอปรูปภาพ\n",
        "ภาพเบลอ / ไม่ชัดเจน\n",
        "\n",
        "เช่น กล้องสั่น ภาพไม่โฟกัส ทำให้โมเดลมองไม่เห็นลักษณะสำคัญ"
      ],
      "metadata": {
        "id": "Q2Le85G-BViR"
      }
    },
    {
      "cell_type": "markdown",
      "source": [],
      "metadata": {
        "id": "kaDmkNwvBjQq"
      }
    },
    {
      "cell_type": "code",
      "execution_count": 25,
      "metadata": {
        "colab": {
          "base_uri": "https://localhost:8080/"
        },
        "id": "1DVmDjHu9HHA",
        "outputId": "f16c99da-3f86-484c-b8f3-992a60d69bac"
      },
      "outputs": [
        {
          "output_type": "stream",
          "name": "stdout",
          "text": [
            "ดรอปรูปเบลอ: image_1_1.png\n",
            "ดรอปรูปเบลอ:  image_1_4.png\n",
            "ดรอปรูปเบลอ: image_1_3.png\n",
            "ดรอปรูปเบลอ: image_1_2.png\n",
            "ดรอปรูปเบลอ:  image_1_0_1.png\n",
            "ดรอปรูปเบลอ: image_1_0.png\n"
          ]
        }
      ],
      "source": [
        "import cv2\n",
        "import numpy as np\n",
        "import os\n",
        "\n",
        "def laplacian_variance(image):\n",
        "    return cv2.Laplacian(image, cv2.CV_64F).var()\n",
        "\n",
        "def brenner_gradient(image):\n",
        "    # คำนวณ Brenner gradient\n",
        "    shifted = np.roll(image, -2, axis=0)\n",
        "    diff = (image[:-2, :] - shifted[:-2, :]) ** 2\n",
        "    return np.sum(diff)\n",
        "\n",
        "def is_blurry(image_path, lap_threshold=100, brenner_threshold=3000):\n",
        "    image = cv2.imread(image_path, cv2.IMREAD_GRAYSCALE)\n",
        "    if image is None:\n",
        "        return True  # รูปเปิดไม่ติด ถือว่าใช้ไม่ได้\n",
        "\n",
        "    # ลดขนาดภาพลง (resize) เพื่อความเร็ว (ถ้าต้องการ)\n",
        "    small_image = cv2.resize(image, (0,0), fx=0.5, fy=0.5)\n",
        "\n",
        "    lap_var = laplacian_variance(small_image)\n",
        "    brenner_val = brenner_gradient(small_image)\n",
        "\n",
        "    # ตรวจสอบค่า threshold ทั้งสอง\n",
        "    if lap_var < lap_threshold or brenner_val < brenner_threshold:\n",
        "        return True\n",
        "    return False\n",
        "\n",
        "# ตัวอย่างการใช้งาน\n",
        "image_folder = '/content/drive/MyDrive/Data set  are train'\n",
        "output_folder = '/content/drive/MyDrive/Data set  are test'\n",
        "os.makedirs(output_folder, exist_ok=True)\n",
        "\n",
        "for filename in os.listdir(image_folder):\n",
        "    path = os.path.join(image_folder, filename)\n",
        "    if not is_blurry(path):\n",
        "        cv2.imwrite(os.path.join(output_folder, filename), cv2.imread(path))\n",
        "    else:\n",
        "        print(f\"ดรอปรูปเบลอ: {filename}\")\n"
      ]
    },
    {
      "cell_type": "markdown",
      "source": [
        "### ตัวอย่างเกณฑ์ในการดรอปรูปภาพ\n",
        "ภาพซ้ำซ้อน\n",
        "\n",
        "ภาพที่เหมือนกันหลายภาพเกินไปอาจทำให้ข้อมูลไม่หลากหลาย"
      ],
      "metadata": {
        "id": "qLHoI85OBvM_"
      }
    },
    {
      "cell_type": "code",
      "source": [
        "!pip install imagehash Pillow\n"
      ],
      "metadata": {
        "colab": {
          "base_uri": "https://localhost:8080/"
        },
        "id": "_Utxt5Qi4L-v",
        "outputId": "4ea832a8-34e4-4d90-f72d-1e71e55e43b4"
      },
      "execution_count": 5,
      "outputs": [
        {
          "output_type": "stream",
          "name": "stdout",
          "text": [
            "Collecting imagehash\n",
            "  Downloading ImageHash-4.3.2-py2.py3-none-any.whl.metadata (8.4 kB)\n",
            "Requirement already satisfied: Pillow in /usr/local/lib/python3.11/dist-packages (11.2.1)\n",
            "Requirement already satisfied: PyWavelets in /usr/local/lib/python3.11/dist-packages (from imagehash) (1.8.0)\n",
            "Requirement already satisfied: numpy in /usr/local/lib/python3.11/dist-packages (from imagehash) (2.0.2)\n",
            "Requirement already satisfied: scipy in /usr/local/lib/python3.11/dist-packages (from imagehash) (1.15.3)\n",
            "Downloading ImageHash-4.3.2-py2.py3-none-any.whl (296 kB)\n",
            "\u001b[2K   \u001b[90m━━━━━━━━━━━━━━━━━━━━━━━━━━━━━━━━━━━━━━━━\u001b[0m \u001b[32m296.7/296.7 kB\u001b[0m \u001b[31m4.1 MB/s\u001b[0m eta \u001b[36m0:00:00\u001b[0m\n",
            "\u001b[?25hInstalling collected packages: imagehash\n",
            "Successfully installed imagehash-4.3.2\n"
          ]
        }
      ]
    },
    {
      "cell_type": "code",
      "source": [
        "import os\n",
        "from PIL import Image\n",
        "import imagehash\n",
        "import shutil\n",
        "\n",
        "# ตั้งค่า\n",
        "image_folder = '/content/drive/MyDrive/Data set  are train'\n",
        "output_folder = '/content/drive/MyDrive/Data_set_are_testset'\n",
        "\n",
        "# ตรวจสอบโฟลเดอร์เป้าหมาย\n",
        "os.makedirs(output_folder, exist_ok=True)\n",
        "\n",
        "# เตรียมเก็บ hash\n",
        "hashes = {}\n",
        "\n",
        "# ตรวจสอบโฟลเดอร์ภาพ\n",
        "if not os.path.exists(image_folder):\n",
        "    print(f\" ไม่พบโฟลเดอร์: {image_folder}\")\n",
        "else:\n",
        "    print(f\" เริ่มตรวจสอบโฟลเดอร์: {image_folder}\\n\")\n",
        "\n",
        "    for root, _, files in os.walk(image_folder):\n",
        "        for filename in files:\n",
        "            if filename.lower().endswith(('.png', '.jpg', '.jpeg')):\n",
        "                path = os.path.join(root, filename)\n",
        "                try:\n",
        "                    image = Image.open(path)\n",
        "\n",
        "                    # ข้ามภาพที่ขนาดเล็ก\n",
        "                    if image.width < 100 or image.height < 100:\n",
        "                        print(f\" ข้ามภาพ resolution ต่ำ: {filename}\")\n",
        "                        image.close()\n",
        "                        continue\n",
        "\n",
        "                    # สร้าง hash\n",
        "                    hash_val = imagehash.phash(image)\n",
        "                    image.close()\n",
        "\n",
        "                    if hash_val in hashes:\n",
        "                        print(f\" พบภาพซ้ำ: {filename} → ลบทิ้ง\")\n",
        "                        os.remove(path)\n",
        "                    else:\n",
        "                        hashes[hash_val] = path\n",
        "                        basename = os.path.basename(path)\n",
        "                        new_path = os.path.join(output_folder, basename)\n",
        "                        shutil.copy2(path, new_path)\n",
        "                        print(f\" เก็บภาพไม่ซ้ำ: {basename}\")\n",
        "\n",
        "                except Exception as e:\n",
        "                    print(f\" Error ในการประมวลผล {filename}: {e}\")\n",
        "\n",
        "# สรุปผล\n",
        "print(f\"\\n ตรวจสอบเสร็จสิ้น\")\n",
        "print(f\" จำนวนภาพไม่ซ้ำที่เก็บไว้: {len(hashes)}\")\n",
        "print(f\" จำนวนภาพที่ซ้ำถูกลบ: นับจาก log ด้านบน\")\n"
      ],
      "metadata": {
        "colab": {
          "base_uri": "https://localhost:8080/"
        },
        "id": "JV2FlEQLqNeq",
        "outputId": "b185a0f3-fa61-4c75-f0af-bbabc1f35f96"
      },
      "execution_count": 33,
      "outputs": [
        {
          "output_type": "stream",
          "name": "stdout",
          "text": [
            " เริ่มตรวจสอบโฟลเดอร์: /content/drive/MyDrive/Data set  are train\n",
            "\n",
            " เก็บภาพไม่ซ้ำ:  image_0_3.png\n",
            " เก็บภาพไม่ซ้ำ: image_1_1.png\n",
            " เก็บภาพไม่ซ้ำ:  image_1_4.png\n",
            " เก็บภาพไม่ซ้ำ: image_1_3.png\n",
            " เก็บภาพไม่ซ้ำ:  image_0_2.png\n",
            " เก็บภาพไม่ซ้ำ: image_1_2.png\n",
            " เก็บภาพไม่ซ้ำ:  image_1_0_1.png\n",
            " เก็บภาพไม่ซ้ำ:  image_0_4.png\n",
            " เก็บภาพไม่ซ้ำ:  image_0_1.png\n",
            " เก็บภาพไม่ซ้ำ:  image_0_0.png\n",
            "\n",
            " ตรวจสอบเสร็จสิ้น\n",
            " จำนวนภาพไม่ซ้ำที่เก็บไว้: 10\n",
            " จำนวนภาพที่ซ้ำถูกลบ: นับจาก log ด้านบน\n"
          ]
        }
      ]
    },
    {
      "cell_type": "markdown",
      "source": [
        "###  ตัวอย่างเกณฑ์ในการดรอปรูปภาพ\n",
        "ภาพที่มีขนาดเล็กหรือ resolution ต่ำเกินไป\n",
        "\n",
        "อาจทำให้รายละเอียดในภาพหายไป ส่งผลให้โมเดลเรียนรู้ได้ยาก"
      ],
      "metadata": {
        "id": "WDBafmKPFBnH"
      }
    },
    {
      "cell_type": "code",
      "source": [
        "import os\n",
        "from PIL import Image\n",
        "\n",
        "#  ตั้งค่า\n",
        "image_folder = '/content/drive/MyDrive/Data_set_are_testset'\n",
        "min_width = 200   # ความกว้างขั้นต่ำ (px)\n",
        "min_height = 200  # ความสูงขั้นต่ำ (px)\n",
        "delete_small_images = False  # เปลี่ยนเป็น True หากต้องการลบ\n",
        "\n",
        "# เตรียมเก็บรายการภาพขนาดเล็ก\n",
        "small_images = []\n",
        "\n",
        "# ตรวจสอบโฟลเดอร์\n",
        "if not os.path.exists(image_folder):\n",
        "    print(f\" ไม่พบโฟลเดอร์: {image_folder}\")\n",
        "else:\n",
        "    print(f\" ตรวจสอบขนาดภาพใน: {image_folder}\\n\")\n",
        "\n",
        "    for filename in os.listdir(image_folder):\n",
        "        if filename.lower().endswith(('.png', '.jpg', '.jpeg')):\n",
        "            path = os.path.join(image_folder, filename)\n",
        "            try:\n",
        "                with Image.open(path) as img:\n",
        "                    width, height = img.size\n",
        "                    if width < min_width or height < min_height:\n",
        "                        small_images.append((filename, width, height))\n",
        "                        print(f\" {filename}: {width}x{height} (เล็กเกินไป)\")\n",
        "\n",
        "                        if delete_small_images:\n",
        "                            os.remove(path)\n",
        "                            print(f\"🗑 ลบภาพ: {filename}\")\n",
        "\n",
        "            except Exception as e:\n",
        "                print(f\"❌ Error เปิดภาพ {filename}: {e}\")\n",
        "\n",
        "    # สรุปผล\n",
        "    if small_images:\n",
        "        print(f\"\\n พบภาพขนาดเล็กทั้งหมด: {len(small_images)}\")\n",
        "    else:\n",
        "        print(\"\\n ไม่พบภาพที่มีขนาดต่ำกว่าที่กำหนด\")\n"
      ],
      "metadata": {
        "colab": {
          "base_uri": "https://localhost:8080/"
        },
        "id": "tpNoQVyECMSu",
        "outputId": "d17ed580-59b8-4a16-cc08-ca14b11439b1"
      },
      "execution_count": 34,
      "outputs": [
        {
          "output_type": "stream",
          "name": "stdout",
          "text": [
            " ตรวจสอบขนาดภาพใน: /content/drive/MyDrive/Data_set_are_testset\n",
            "\n",
            "\n",
            " ไม่พบภาพที่มีขนาดต่ำกว่าที่กำหนด\n"
          ]
        }
      ]
    },
    {
      "cell_type": "code",
      "source": [
        "import os\n",
        "import cv2\n",
        "import numpy as np\n",
        "import albumentations as A\n",
        "from tqdm import tqdm\n",
        "\n",
        "input_folder = \"/content/drive/MyDrive/Data set  are test\"\n",
        "output_folder = \"/content/drive/MyDrive/Data set  are testset1\"\n",
        "num_augmentations = 1\n",
        "\n",
        "os.makedirs(output_folder, exist_ok=True)\n",
        "\n",
        "transform = A.Compose([\n",
        "    A.GaussNoise(var_limit=(10.0, 50.0), p=0.2),             # เพิ่ม noise แบบ Gaussian\n",
        "    A.Rotate(limit=15, p=0.5),                               # หมุนภาพ ±15 องศา\n",
        "    A.HorizontalFlip(p=0.5),                                 # พลิกภาพซ้าย-ขวา\n",
        "    A.VerticalFlip(p=0.2),                                   # พลิกภาพบน-ล่าง\n",
        "    # #A.RandomBrightnessContrast(brightness_limit=0.2,\n",
        "    #                             contrast_limit=0.2, p=0.3),  # ปรับความสว่าง/คอนทราสต์\n",
        "    # #A.ShiftScaleRotate(shift_limit=0.05,\n",
        "    #                    scale_limit=0.1,\n",
        "    #                    rotate_limit=10, p=0.4),              # ย้าย/ขยาย/หมุน\n",
        "    # A.ElasticTransform(p=0.2),                               # บิดภาพแบบยืดหยุ่น\n",
        "    # A.GridDistortion(p=0.2),                                 # ทำให้ภาพเบี้ยวเป็นตาราง\n",
        "    # A.RandomCrop(width=200, height=200, p=0.3),              # ครอปภาพแบบสุ่ม\n",
        "    # A.Resize(224, 224),                                      # Resize ให้เท่ากัน (จำเป็นก่อนเข้าโมเดล)\n",
        "])\n",
        "\n",
        "\n",
        "image_files = [f for f in os.listdir(input_folder) if f.lower().endswith(('.jpg', '.jpeg', '.png'))]\n",
        "\n",
        "for img_name in tqdm(image_files, desc=\"Processing Images\"):\n",
        "    img_path = os.path.join(input_folder, img_name)\n",
        "\n",
        "    try:\n",
        "        image = cv2.imread(img_path)\n",
        "        if image is None:\n",
        "            continue\n",
        "\n",
        "        image_rgb = cv2.cvtColor(image, cv2.COLOR_BGR2RGB)\n",
        "        cv2.imwrite(os.path.join(output_folder, img_name), image)  # save original\n",
        "\n",
        "        for i in range(num_augmentations):\n",
        "            augmented = transform(image=image_rgb)[\"image\"]\n",
        "            augmented_bgr = cv2.cvtColor(augmented, cv2.COLOR_RGB2BGR)\n",
        "            new_name = f\"{os.path.splitext(img_name)[0]}_aug{i+1}.jpg\"\n",
        "            new_path = os.path.join(output_folder, new_name)\n",
        "            cv2.imwrite(new_path, augmented_bgr)\n",
        "    except Exception as e:\n",
        "        print(f\"Error processing {img_name}: {e}\")\n"
      ],
      "metadata": {
        "colab": {
          "base_uri": "https://localhost:8080/"
        },
        "id": "Q3Jt3Cknghkl",
        "outputId": "451e4c40-be33-4db2-f07c-4772d18834a5"
      },
      "execution_count": 24,
      "outputs": [
        {
          "output_type": "stream",
          "name": "stderr",
          "text": [
            "<ipython-input-24-2600396470>:14: UserWarning: Argument(s) 'var_limit' are not valid for transform GaussNoise\n",
            "  A.GaussNoise(var_limit=(10.0, 50.0), p=0.2),\n",
            "Processing Images: 100%|██████████| 5/5 [00:00<00:00, 11.39it/s]\n"
          ]
        }
      ]
    },
    {
      "cell_type": "code",
      "source": [
        "import os\n",
        "import shutil\n",
        "\n",
        "#  ตั้งค่า\n",
        "source_folder = \"/content/drive/MyDrive/test_set/test_dogs\"  # โฟลเดอร์ต้นฉบับ\n",
        "target_root_folder = \"/content/drive/MyDrive/test_set/split_dogs\"  # โฟลเดอร์ปลายทาง\n",
        "images_per_split = 500  #  จำนวนภาพต่อชุด\n",
        "\n",
        "#  ฟังก์ชัน: ดึง path รูปจากทุก subfolder\n",
        "def get_all_image_paths(root_folder, extensions=('.jpg', '.jpeg', '.png')):\n",
        "    image_paths = []\n",
        "    for dirpath, _, filenames in os.walk(root_folder):\n",
        "        for filename in filenames:\n",
        "            if filename.lower().endswith(extensions):\n",
        "                image_paths.append(os.path.join(dirpath, filename))\n",
        "    return image_paths\n",
        "\n",
        "#  ดึงรายการภาพทั้งหมด\n",
        "all_images = get_all_image_paths(source_folder)\n",
        "\n",
        "#  แบ่งภาพเป็นชุด\n",
        "for i in range(0, len(all_images), images_per_split):\n",
        "    split_images = all_images[i:i+images_per_split]\n",
        "    split_folder = os.path.join(target_root_folder, f\"split_{i // images_per_split}\")\n",
        "    os.makedirs(split_folder, exist_ok=True)\n",
        "\n",
        "    #  คัดลอกภาพไปยังโฟลเดอร์ย่อย\n",
        "    for img_path in split_images:\n",
        "        filename = os.path.basename(img_path)\n",
        "        shutil.copy(img_path, os.path.join(split_folder, filename))\n",
        "\n",
        "print(f\" แบ่งภาพทั้งหมด {len(all_images)} รูป เป็นชุดละ {images_per_split} เสร็จแล้วที่: {target_root_folder}\")\n"
      ],
      "metadata": {
        "id": "6WgXCvcPn2aN"
      },
      "execution_count": null,
      "outputs": []
    },
    {
      "cell_type": "code",
      "source": [
        ""
      ],
      "metadata": {
        "id": "uGjFQNlbn25y"
      },
      "execution_count": null,
      "outputs": []
    }
  ]
}